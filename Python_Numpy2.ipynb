{
 "cells": [
  {
   "cell_type": "code",
   "execution_count": 1,
   "metadata": {},
   "outputs": [],
   "source": [
    "import numpy as np"
   ]
  },
  {
   "cell_type": "code",
   "execution_count": 2,
   "metadata": {},
   "outputs": [
    {
     "name": "stdout",
     "output_type": "stream",
     "text": [
      "원본행렬 :  [3 1 9 5]\n",
      "np.sort() 호출 후 반환된 정렬 행렬 :  [1 3 5 9]\n"
     ]
    }
   ],
   "source": [
    "org_array = np.array([3,1,9,5])\n",
    "print('원본행렬 : ', org_array)\n",
    "\n",
    "\n",
    "#np.sort()로 정렬\n",
    "sort_array1 = np.sort(org_array)\n",
    "print('np.sort() 호출 후 반환된 정렬 행렬 : ', sort_array1)"
   ]
  },
  {
   "cell_type": "code",
   "execution_count": 3,
   "metadata": {},
   "outputs": [
    {
     "name": "stdout",
     "output_type": "stream",
     "text": [
      "np.sort() 호출 후 원본 행렬: [3 1 9 5]\n",
      "org_array.sort() 호출 후 반환된 행렬 :  None\n",
      "org_array.sort() 호출 후 원본 행렬 :  [1 3 5 9]\n"
     ]
    }
   ],
   "source": [
    "print('np.sort() 호출 후 원본 행렬:', org_array)\n",
    "#ndarray.sort()로 정렬\n",
    "sort_array2 = org_array.sort()\n",
    "print('org_array.sort() 호출 후 반환된 행렬 : ', sort_array2)\n",
    "print('org_array.sort() 호출 후 원본 행렬 : ', org_array)"
   ]
  },
  {
   "cell_type": "code",
   "execution_count": 4,
   "metadata": {},
   "outputs": [
    {
     "name": "stdout",
     "output_type": "stream",
     "text": [
      "내림차순으로 정렬: [9 5 3 1]\n"
     ]
    }
   ],
   "source": [
    "sort_array1_desc = np.sort(org_array)[::-1]\n",
    "print('내림차순으로 정렬:', sort_array1_desc)"
   ]
  },
  {
   "cell_type": "markdown",
   "metadata": {},
   "source": [
    "행렬이 2차원 이상일 경우에 axis 축 값 설정을 통해 로우 방향, 또는 칼럼 방향으로 정렬을 수행할 수 있다."
   ]
  },
  {
   "cell_type": "code",
   "execution_count": 5,
   "metadata": {},
   "outputs": [
    {
     "name": "stdout",
     "output_type": "stream",
     "text": [
      "로우 방향으로 정렬:\n",
      " [[ 7  1]\n",
      " [ 8 12]]\n",
      "칼럼 방향으로 정렬:\n",
      " [[ 8 12]\n",
      " [ 1  7]]\n"
     ]
    }
   ],
   "source": [
    "array2d = np.array([[8,12],\n",
    "                   [7,1]])\n",
    "\n",
    "sort_array2d_axis0 = np.sort(array2d, axis = 0)\n",
    "print('로우 방향으로 정렬:\\n', sort_array2d_axis0)\n",
    "\n",
    "sort_array2d_axis1 = np.sort(array2d, axis =1 )\n",
    "print('칼럼 방향으로 정렬:\\n', sort_array2d_axis1)"
   ]
  },
  {
   "cell_type": "markdown",
   "metadata": {},
   "source": [
    "### np.argsort()"
   ]
  },
  {
   "cell_type": "markdown",
   "metadata": {},
   "source": [
    "원본 행렬이 정렬되었을 때 기존 원본 행렬의 원소에 대한 인덱스를 필요로 할 때, \n",
    "np.argsort()를 이용한다. "
   ]
  },
  {
   "cell_type": "code",
   "execution_count": 7,
   "metadata": {},
   "outputs": [
    {
     "name": "stdout",
     "output_type": "stream",
     "text": [
      "<class 'numpy.ndarray'>\n",
      "행렬 정렬 시 원본 행렬의 인덱스:  [1 0 3 2]\n"
     ]
    }
   ],
   "source": [
    "org_array = np.array([3,1,9,5])\n",
    "sort_indices = np.argsort(org_array)\n",
    "print(type(sort_indices))\n",
    "print('행렬 정렬 시 원본 행렬의 인덱스: ', sort_indices)"
   ]
  },
  {
   "cell_type": "code",
   "execution_count": 8,
   "metadata": {},
   "outputs": [
    {
     "name": "stdout",
     "output_type": "stream",
     "text": [
      "행렬 정렬 시 원본 행렬의 인덱스:  [2 3 0 1]\n"
     ]
    }
   ],
   "source": [
    "org_array = np.array([3,1,9,5])\n",
    "sort_indices_desc = np.argsort(org_array)[::-1]\n",
    "print('행렬 정렬 시 원본 행렬의 인덱스: ', sort_indices_desc)"
   ]
  },
  {
   "cell_type": "code",
   "execution_count": 9,
   "metadata": {},
   "outputs": [
    {
     "name": "stdout",
     "output_type": "stream",
     "text": [
      "성적 오름차순 정렬 시 score_array의 인덱스 :  [0 2 4 1 3]\n",
      "성적 오름차순으로 name_array의 이름 출력: ['John' 'Sarah' 'Samuel' 'Mike' 'Kate']\n"
     ]
    }
   ],
   "source": [
    "name_array = np.array(['John', 'Mike', 'Sarah', 'Kate', 'Samuel'])\n",
    "score_array = np.array([78,95,84,98,88])\n",
    "\n",
    "sort_indices_asc = np.argsort(score_array)\n",
    "print('성적 오름차순 정렬 시 score_array의 인덱스 : ', sort_indices_asc)\n",
    "print('성적 오름차순으로 name_array의 이름 출력:', name_array[sort_indices_asc])"
   ]
  },
  {
   "cell_type": "markdown",
   "metadata": {},
   "source": [
    "### 행렬 내적(행렬 곱) np.dot()"
   ]
  },
  {
   "cell_type": "code",
   "execution_count": 11,
   "metadata": {},
   "outputs": [
    {
     "name": "stdout",
     "output_type": "stream",
     "text": [
      "행렬 내적 결과 : \n",
      " [[ 58  64]\n",
      " [139 154]]\n"
     ]
    }
   ],
   "source": [
    "A = np.array([[1,2,3], \n",
    "             [4,5,6]])\n",
    "\n",
    "B = np.array([[7,8],\n",
    "             [9,10],\n",
    "             [11,12]])\n",
    "\n",
    "dot_product = np.dot(A,B)\n",
    "print('행렬 내적 결과 : \\n', dot_product)"
   ]
  },
  {
   "cell_type": "markdown",
   "metadata": {},
   "source": [
    "### 전치행렬"
   ]
  },
  {
   "cell_type": "code",
   "execution_count": 13,
   "metadata": {},
   "outputs": [
    {
     "name": "stdout",
     "output_type": "stream",
     "text": [
      "A의 전치행렬 : \n",
      " [[1 3]\n",
      " [2 4]]\n"
     ]
    }
   ],
   "source": [
    "A = np.array([[1,2], \n",
    "             [3,4]])\n",
    "transpose_mat = np.transpose(A)\n",
    "print('A의 전치행렬 : \\n', transpose_mat)"
   ]
  },
  {
   "cell_type": "code",
   "execution_count": null,
   "metadata": {},
   "outputs": [],
   "source": []
  },
  {
   "cell_type": "code",
   "execution_count": null,
   "metadata": {},
   "outputs": [],
   "source": []
  },
  {
   "cell_type": "code",
   "execution_count": null,
   "metadata": {},
   "outputs": [],
   "source": []
  },
  {
   "cell_type": "code",
   "execution_count": null,
   "metadata": {},
   "outputs": [],
   "source": []
  },
  {
   "cell_type": "code",
   "execution_count": null,
   "metadata": {},
   "outputs": [],
   "source": []
  }
 ],
 "metadata": {
  "kernelspec": {
   "display_name": "Python 3",
   "language": "python",
   "name": "python3"
  },
  "language_info": {
   "codemirror_mode": {
    "name": "ipython",
    "version": 3
   },
   "file_extension": ".py",
   "mimetype": "text/x-python",
   "name": "python",
   "nbconvert_exporter": "python",
   "pygments_lexer": "ipython3",
   "version": "3.7.6"
  }
 },
 "nbformat": 4,
 "nbformat_minor": 4
}
